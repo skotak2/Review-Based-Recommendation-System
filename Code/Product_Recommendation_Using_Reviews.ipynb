{
  "nbformat": 4,
  "nbformat_minor": 0,
  "metadata": {
    "colab": {
      "name": "Product_Recommendation_Using_Reviews.ipynb",
      "provenance": []
    },
    "kernelspec": {
      "name": "python3",
      "display_name": "Python 3"
    }
  },
  "cells": [
    {
      "cell_type": "code",
      "metadata": {
        "id": "e6yBUONZ_a7M",
        "outputId": "2c62d49b-f1f3-4f8c-8265-d7c9a3bf4b5d",
        "colab": {
          "base_uri": "https://localhost:8080/",
          "height": 50
        }
      },
      "source": [
        "!pip install -q xlrd\n",
        "!git clone https://github.com/skotak2/Review_Based_Recomm_System.git"
      ],
      "execution_count": 10,
      "outputs": [
        {
          "output_type": "stream",
          "text": [
            "Cloning into 'Review_Based_Recomm_System'...\n",
            "warning: You appear to have cloned an empty repository.\n"
          ],
          "name": "stdout"
        }
      ]
    },
    {
      "cell_type": "code",
      "metadata": {
        "id": "xfKmgtHM_YzQ"
      },
      "source": [
        "# Mounting Google drive to this file to fetch the data\n",
        "from google.colab import drive\n",
        "drive.mount('/content/drive')"
      ],
      "execution_count": null,
      "outputs": []
    },
    {
      "cell_type": "code",
      "metadata": {
        "id": "FrdfyS8q6Nmg"
      },
      "source": [
        "#Installing scikit-learn and upgrading it\n",
        "pip install --upgrade scikit-learn"
      ],
      "execution_count": null,
      "outputs": []
    },
    {
      "cell_type": "code",
      "metadata": {
        "id": "cx0v9ijhFWgc"
      },
      "source": [
        "#Importing the required set of packages\n",
        "import pandas as pd\n",
        "from sklearn.feature_extraction.text import ENGLISH_STOP_WORDS, TfidfVectorizer\n",
        "from sklearn.cluster import KMeans\n",
        "from sklearn.pipeline import Pipeline\n",
        "import gzip\n",
        "import os\n",
        "import json\n",
        "import gzip\n"
      ],
      "execution_count": 1,
      "outputs": []
    },
    {
      "cell_type": "code",
      "metadata": {
        "id": "xXNOIlCqFcZ8"
      },
      "source": [
        "#Flattening the JSON file to load the data into dataframe \n",
        "data = []\n",
        "with gzip.open('/content/drive/My Drive/reviews_amazon.gz') as f:\n",
        "    for l in f:\n",
        "        data.append(json.loads(l.strip()))\n"
      ],
      "execution_count": 5,
      "outputs": []
    },
    {
      "cell_type": "code",
      "metadata": {
        "id": "WTGVQQooFr8b"
      },
      "source": [
        "#Loading the dataframe and selecting the required set of columns for modeling and Analysis\n",
        "#Column 1 has the ASIN id which identifies the product and Column 4 has the reviews for the product\n",
        "df_review = pd.DataFrame.from_dict(data)\n",
        "df_review  = df_review.iloc[:,[1,4]]\n",
        "df_review = df_review.dropna()"
      ],
      "execution_count": 6,
      "outputs": []
    },
    {
      "cell_type": "code",
      "metadata": {
        "id": "dfzecVVVC8wv",
        "outputId": "1d836c0c-b5bb-4d4c-bca8-4d4f78b5a998",
        "colab": {
          "base_uri": "https://localhost:8080/",
          "height": 402
        }
      },
      "source": [
        "#We group the reviews and concatenate per ASIN ID for building the K-Means model\n",
        "df_review = df_review.groupby(['asin'])['reviewText'].apply(','.join).reset_index()\n",
        "df_review"
      ],
      "execution_count": null,
      "outputs": [
        {
          "output_type": "execute_result",
          "data": {
            "text/html": [
              "<div>\n",
              "<style scoped>\n",
              "    .dataframe tbody tr th:only-of-type {\n",
              "        vertical-align: middle;\n",
              "    }\n",
              "\n",
              "    .dataframe tbody tr th {\n",
              "        vertical-align: top;\n",
              "    }\n",
              "\n",
              "    .dataframe thead th {\n",
              "        text-align: right;\n",
              "    }\n",
              "</style>\n",
              "<table border=\"1\" class=\"dataframe\">\n",
              "  <thead>\n",
              "    <tr style=\"text-align: right;\">\n",
              "      <th></th>\n",
              "      <th>asin</th>\n",
              "      <th>reviewText</th>\n",
              "    </tr>\n",
              "  </thead>\n",
              "  <tbody>\n",
              "    <tr>\n",
              "      <th>0</th>\n",
              "      <td>616719923X</td>\n",
              "      <td>Just another flavor of Kit Kat but the taste i...</td>\n",
              "    </tr>\n",
              "    <tr>\n",
              "      <th>1</th>\n",
              "      <td>9742356831</td>\n",
              "      <td>This curry paste makes a delicious curry.  I j...</td>\n",
              "    </tr>\n",
              "    <tr>\n",
              "      <th>2</th>\n",
              "      <td>B00004S1C5</td>\n",
              "      <td>These dyes create awesome colors for kids craf...</td>\n",
              "    </tr>\n",
              "    <tr>\n",
              "      <th>3</th>\n",
              "      <td>B0000531B7</td>\n",
              "      <td>I really enjoy these bars as a quick breakfast...</td>\n",
              "    </tr>\n",
              "    <tr>\n",
              "      <th>4</th>\n",
              "      <td>B00005344V</td>\n",
              "      <td>Traditional Medicinals' \"Breathe Easy\" is an a...</td>\n",
              "    </tr>\n",
              "    <tr>\n",
              "      <th>...</th>\n",
              "      <td>...</td>\n",
              "      <td>...</td>\n",
              "    </tr>\n",
              "    <tr>\n",
              "      <th>8708</th>\n",
              "      <td>B00JGPG60I</td>\n",
              "      <td>We switched to this formula 5 days ago and for...</td>\n",
              "    </tr>\n",
              "    <tr>\n",
              "      <th>8709</th>\n",
              "      <td>B00JL6LTMW</td>\n",
              "      <td>We have enjoyed Larabar's variety of bars for ...</td>\n",
              "    </tr>\n",
              "    <tr>\n",
              "      <th>8710</th>\n",
              "      <td>B00K00H9I6</td>\n",
              "      <td>This 100% pure Canadian maple syrup is a Grade...</td>\n",
              "    </tr>\n",
              "    <tr>\n",
              "      <th>8711</th>\n",
              "      <td>B00KC0LGI8</td>\n",
              "      <td>I followed the directions on the box exactly b...</td>\n",
              "    </tr>\n",
              "    <tr>\n",
              "      <th>8712</th>\n",
              "      <td>B00KCJRVO2</td>\n",
              "      <td>Usually the label &amp;#34;gluten free&amp;#34; is a c...</td>\n",
              "    </tr>\n",
              "  </tbody>\n",
              "</table>\n",
              "<p>8713 rows × 2 columns</p>\n",
              "</div>"
            ],
            "text/plain": [
              "            asin                                         reviewText\n",
              "0     616719923X  Just another flavor of Kit Kat but the taste i...\n",
              "1     9742356831  This curry paste makes a delicious curry.  I j...\n",
              "2     B00004S1C5  These dyes create awesome colors for kids craf...\n",
              "3     B0000531B7  I really enjoy these bars as a quick breakfast...\n",
              "4     B00005344V  Traditional Medicinals' \"Breathe Easy\" is an a...\n",
              "...          ...                                                ...\n",
              "8708  B00JGPG60I  We switched to this formula 5 days ago and for...\n",
              "8709  B00JL6LTMW  We have enjoyed Larabar's variety of bars for ...\n",
              "8710  B00K00H9I6  This 100% pure Canadian maple syrup is a Grade...\n",
              "8711  B00KC0LGI8  I followed the directions on the box exactly b...\n",
              "8712  B00KCJRVO2  Usually the label &#34;gluten free&#34; is a c...\n",
              "\n",
              "[8713 rows x 2 columns]"
            ]
          },
          "metadata": {
            "tags": []
          },
          "execution_count": 6
        }
      ]
    },
    {
      "cell_type": "code",
      "metadata": {
        "id": "DzgxXCpFGGBK"
      },
      "source": [
        "#Buidling a pipeline to extract TF-IDF scores of words from the given text devoid of stop words\n",
        "pipeline = Pipeline(steps= [('tfidf', TfidfVectorizer(lowercase=True,\n",
        "                                                      max_features=1000,\n",
        "                                                      stop_words= ENGLISH_STOP_WORDS)),\n",
        "                            ('model',KMeans(n_clusters=100))])"
      ],
      "execution_count": null,
      "outputs": []
    },
    {
      "cell_type": "code",
      "metadata": {
        "id": "A99pD9rmHvTv"
      },
      "source": [
        "#We fit the model pipeline with review texts and load the df_review dataframe with cluster predictions\n",
        "model = pipeline.fit(df_review['reviewText'])\n",
        "a = model.predict(df_review['reviewText'])\n",
        "df_review['Prediction'] = a "
      ],
      "execution_count": null,
      "outputs": []
    },
    {
      "cell_type": "code",
      "metadata": {
        "id": "4xMqnP1_GJf3"
      },
      "source": [
        "#We create a lookup dictionary where we asign each product with a cluster ID, we call it lkup_tbl\n",
        "lkup_tbl = df_review.iloc[:,[0,2]]\n",
        "lkup_dict = dict(zip(lkup_tbl.asin, lkup_tbl.Prediction))\n",
        "lkup_dict\n"
      ],
      "execution_count": null,
      "outputs": []
    },
    {
      "cell_type": "code",
      "metadata": {
        "id": "w3S4kPlnKzVZ",
        "outputId": "899039b8-a805-4723-eef4-108df7f09944",
        "colab": {
          "base_uri": "https://localhost:8080/",
          "height": 34
        }
      },
      "source": [
        "#We could validate the model to look for cluster IDs given the text data\n",
        "text = [\"I want to buy vegetables\",\"I got sugar rush\",\"Clean my washroom\"]\n",
        "\n",
        "# predict the label using the pipeline\n",
        "model = pipeline.predict(text)\n",
        "model"
      ],
      "execution_count": null,
      "outputs": [
        {
          "output_type": "execute_result",
          "data": {
            "text/plain": [
              "array([93, 14, 24], dtype=int32)"
            ]
          },
          "metadata": {
            "tags": []
          },
          "execution_count": 84
        }
      ]
    },
    {
      "cell_type": "code",
      "metadata": {
        "id": "djwd09IHLeli"
      },
      "source": [
        "#Loading the libraries required for dumbing the lookup table and model in the joblib and dump files\n",
        "#Joblib for pipeline and Dump for the lookup table\n",
        "from joblib import load\n",
        "from joblib import dump"
      ],
      "execution_count": null,
      "outputs": []
    },
    {
      "cell_type": "code",
      "metadata": {
        "id": "_z05ibEtOYRi",
        "outputId": "5f6e7cba-7293-4c82-d1bf-e00d380431aa",
        "colab": {
          "base_uri": "https://localhost:8080/",
          "height": 34
        }
      },
      "source": [
        "#Dumping the pipeline\n",
        "dump(pipeline, filename=\"text_classification1.joblib\")"
      ],
      "execution_count": null,
      "outputs": [
        {
          "output_type": "execute_result",
          "data": {
            "text/plain": [
              "['text_classification1.joblib']"
            ]
          },
          "metadata": {
            "tags": []
          },
          "execution_count": 13
        }
      ]
    },
    {
      "cell_type": "code",
      "metadata": {
        "id": "RYEnktow-4so"
      },
      "source": [
        "#Load the required libraries for extracting model and lookup file details\n",
        "import pickle\n",
        "from joblib import load"
      ],
      "execution_count": 7,
      "outputs": []
    },
    {
      "cell_type": "code",
      "metadata": {
        "id": "EdY0yU2TPQv7"
      },
      "source": [
        "#Valdiation of pickle file\n",
        "#Extracting from the pickle file\n",
        "example_dict = lkup_dict\n",
        "\n",
        "pickle_out = open(\"dict.pickle1\",\"wb\")\n",
        "pickle.dump(example_dict, pickle_out)\n",
        "pickle_out.close()\n"
      ],
      "execution_count": null,
      "outputs": []
    },
    {
      "cell_type": "code",
      "metadata": {
        "id": "9Ov6inOavyfe"
      },
      "source": [
        "#Defining the function for performing the prediction\n",
        "def recomm(text):\n",
        "  pipeline = load(\"text_classification1.joblib\")\n",
        "  pickle_in = open(\"dict.pickle1\",\"rb\")\n",
        "  example_dict = pickle.load(pickle_in)\n",
        "  out_pred = pipeline.predict(text)\n",
        "  list_recomm = [id for id, pred in example_dict.items() if pred == out_pred][:20]\n",
        "  return list_recomm\n",
        "\n"
      ],
      "execution_count": null,
      "outputs": []
    },
    {
      "cell_type": "code",
      "metadata": {
        "id": "S5_xVGwov0RQ",
        "outputId": "294ee2ee-bf19-4dcc-b89a-a74716b24afd",
        "colab": {
          "base_uri": "https://localhost:8080/",
          "height": 353
        }
      },
      "source": [
        "#Recommendatopn for the given text in terms of Product IDs\n",
        "recomm([\"Harpic is bad\"])"
      ],
      "execution_count": null,
      "outputs": [
        {
          "output_type": "execute_result",
          "data": {
            "text/plain": [
              "['B00005C2M2',\n",
              " 'B0000DGF9V',\n",
              " 'B0000SXEN2',\n",
              " 'B00012182G',\n",
              " 'B00013MY78',\n",
              " 'B00015MLVA',\n",
              " 'B0002VXZ40',\n",
              " 'B0002Y121K',\n",
              " 'B0005ZHOUO',\n",
              " 'B0009IR4CK',\n",
              " 'B000BBY7ZC',\n",
              " 'B000CMHMUC',\n",
              " 'B000EHP522',\n",
              " 'B000EVLU9A',\n",
              " 'B000EVMNLY',\n",
              " 'B000EVMNOG',\n",
              " 'B000EVOSE4',\n",
              " 'B000EVOSH6',\n",
              " 'B000EVOSHG',\n",
              " 'B000EVQWJ8']"
            ]
          },
          "metadata": {
            "tags": []
          },
          "execution_count": 21
        }
      ]
    }
  ]
}